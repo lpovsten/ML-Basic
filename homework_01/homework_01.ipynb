{
 "cells": [
  {
   "cell_type": "markdown",
   "id": "8955a739",
   "metadata": {},
   "source": [
    "# Домашнее задание: Базовые типы данных\n",
    "\n"
   ]
  },
  {
   "cell_type": "markdown",
   "id": "d4e67b86",
   "metadata": {},
   "source": [
    "## Задание 1: Зеркальное отражение цифр\n",
    "\n",
    "Пользователь вводит пятизначное число. Программа должна зеркально отразить три центральные цифры. Первая и последняя остаются на местах.\n",
    "\n",
    "<br>\n",
    "\n",
    "**Примеры:**\n",
    "* `23456 -> 25436`\n",
    "* `30789 -> 38709`"
   ]
  },
  {
   "cell_type": "code",
   "id": "5a4d665d",
   "metadata": {
    "ExecuteTime": {
     "end_time": "2025-08-27T20:57:22.666605Z",
     "start_time": "2025-08-27T20:57:18.833692Z"
    }
   },
   "source": [
    "num = input(\"Введите пятизначное число: \")\n",
    "new_num = num[0] + num[3:0:-1] + num[4]\n",
    "print(num[0])\n",
    "print(num[4])\n",
    "print(num[3:0:-1])\n",
    "print(f'Число с зеркальным отображением трёх центральных цифр: {new_num}')"
   ],
   "outputs": [
    {
     "name": "stdout",
     "output_type": "stream",
     "text": [
      "1\n",
      "5\n",
      "432\n",
      "Число с зеркальным отображением трёх центральных цифр: 14325\n"
     ]
    }
   ],
   "execution_count": 2
  },
  {
   "cell_type": "markdown",
   "id": "00b9578b",
   "metadata": {},
   "source": [
    "## Задание 2: Подсчет выходных до отпуска\n",
    "\n",
    "Пользователь вводит сколько дней осталось до ближайшего отпуска. Программа должна вывести количество выходных дней до отпуска, если учесть, что выходные это суббота и воскресенье, сегодня понедельник и праздники мы не учитываем.  \n",
    "\n",
    "<br>\n",
    "\n",
    "**Примеры:**\n",
    "* `4  -> 0`\n",
    "* `6  -> 1`\n",
    "* `14 -> 4`"
   ]
  },
  {
   "cell_type": "code",
   "id": "07154103",
   "metadata": {
    "ExecuteTime": {
     "end_time": "2025-08-27T20:57:35.791998Z",
     "start_time": "2025-08-27T20:57:31.388900Z"
    }
   },
   "source": [
    "days_left = int(input('Введите количество дней до отпуска: '))\n",
    "weekends = (days_left // 7) * 2\n",
    "for i in range(days_left % 7):\n",
    "    if i >= 5:\n",
    "        weekends += 1\n",
    "print(f'До отпуска осталось {weekends} выходных.')"
   ],
   "outputs": [
    {
     "name": "stdout",
     "output_type": "stream",
     "text": [
      "До отпуска осталось 4 выходных.\n"
     ]
    }
   ],
   "execution_count": 3
  },
  {
   "cell_type": "markdown",
   "id": "cdde282c",
   "metadata": {},
   "source": [
    "## Задание 3: Плитка шоколада\n",
    "\n",
    "Пользователь вводит длину и ширину плитки шоколада, а также размер куска, который хочет отломить. Программа должна вычислить - можно ли совершить подобный разлом или нет, если учесть, что ломать можно только по прямой.\n",
    "\n",
    "<br>\n",
    "\n",
    "**Примеры:**\n",
    "* `3, 4, 6  -> True`\n",
    "* `5, 7, 8  -> False`\n",
    "* `4, 5, 12 -> True`"
   ]
  },
  {
   "cell_type": "code",
   "id": "70f3324c",
   "metadata": {
    "ExecuteTime": {
     "end_time": "2025-08-27T20:57:51.110918Z",
     "start_time": "2025-08-27T20:57:40.589396Z"
    }
   },
   "source": [
    "l = int(input(\"Длина плитки: \"))\n",
    "w = int(input(\"Ширина плитки: \"))\n",
    "p = int(input(\"Размер куска: \"))\n",
    "if p < l * w and (p % l == 0 or p % w == 0):\n",
    "    print(\"Разломить плитку возможно\")\n",
    "else:\n",
    "    print(\"Невозможно разломить плитку указанным способом\")"
   ],
   "outputs": [
    {
     "name": "stdout",
     "output_type": "stream",
     "text": [
      "Невозможно разломить плитку указанным способом\n"
     ]
    }
   ],
   "execution_count": 4
  },
  {
   "cell_type": "markdown",
   "id": "6470efc1",
   "metadata": {},
   "source": [
    "## Задание 4: Римские числа\n",
    "\n",
    "Пользователь вводит целое положительное число, программа должна вернуть строку в виде римского числа.\n",
    "\n",
    "<br>\n",
    "\n",
    "**Примеры:**\n",
    "* `3   -> III`\n",
    "* `15  -> XV`\n",
    "* `234 -> CCXXXIV`"
   ]
  },
  {
   "cell_type": "code",
   "id": "8686127c",
   "metadata": {
    "ExecuteTime": {
     "end_time": "2025-08-31T07:26:49.304398Z",
     "start_time": "2025-08-31T07:26:45.817072Z"
    }
   },
   "source": [
    "def to_rim(num):\n",
    "        symbols = {\n",
    "            1000: 'M', 900: 'CM', 500: 'D', 400: 'CD',\n",
    "            100: 'C', 90: 'XC', 50: 'L', 40: 'XL',\n",
    "            10: 'X', 9: 'IX', 5: 'V', 4: 'IV', 1: 'I'\n",
    "        }\n",
    "        res = \"\"\n",
    "        for value in sorted(symbols.keys(), reverse=True):\n",
    "            while num >= value:\n",
    "                res += symbols[value]\n",
    "                num -= value\n",
    "        return res\n",
    "\n",
    "n = int(input(\"Введите целое положительное число: \"))\n",
    "print(to_rim(n))"
   ],
   "outputs": [
    {
     "name": "stdout",
     "output_type": "stream",
     "text": [
      "DXXXIV\n"
     ]
    }
   ],
   "execution_count": 14
  },
  {
   "cell_type": "markdown",
   "id": "ca6a4c0a",
   "metadata": {},
   "source": [
    "## Задание 5: Проверка на вещественное число\n",
    "\n",
    "Пользователь вводит данные, проверить - являются ли они положительным вещественным числом. Не использовать встроенные функции для проверки, только методы данных и конструкцию IF. (Дополнительное задание, по желанию - проверка на отрицательные вещественные числа)\n",
    "\n",
    "<br>\n",
    "\n",
    "**Примеры:**\n",
    "* `5.6  -> True`\n",
    "* `.78  -> True`\n",
    "* `.67. -> False`\n",
    "* `5    -> True`"
   ]
  },
  {
   "cell_type": "code",
   "id": "74e39179",
   "metadata": {
    "ExecuteTime": {
     "end_time": "2025-08-31T07:17:53.508655Z",
     "start_time": "2025-08-31T07:17:50.574667Z"
    }
   },
   "source": [
    "number = input(\"Введите число: \")\n",
    "is_positive_real_number = (\n",
    "    data.replace('.', '', 1).isdigit() and\n",
    "    not data.startswith('-')\n",
    ")\n",
    "\n",
    "if is_positive_real_number:\n",
    "    print(\"Вы ввели положительное вещественное число.\")\n",
    "else:\n",
    "    print(\"Вы НЕ ввели положительное вещественное число.\")"
   ],
   "outputs": [
    {
     "name": "stdout",
     "output_type": "stream",
     "text": [
      "Вы ввели положительное вещественное число.\n"
     ]
    }
   ],
   "execution_count": 12
  }
 ],
 "metadata": {
  "kernelspec": {
   "display_name": ".venv (3.11.12)",
   "language": "python",
   "name": "python3"
  },
  "language_info": {
   "name": "python",
   "version": "3.11.12"
  }
 },
 "nbformat": 4,
 "nbformat_minor": 5
}
