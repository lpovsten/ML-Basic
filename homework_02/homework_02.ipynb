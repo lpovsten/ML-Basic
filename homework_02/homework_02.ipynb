{
 "cells": [
  {
   "cell_type": "markdown",
   "id": "a2c501e6",
   "metadata": {},
   "source": [
    "# Домашнее задание: Управляющие конструкции"
   ]
  },
  {
   "cell_type": "markdown",
   "id": "3e4cac4a",
   "metadata": {},
   "source": [
    "## Задание 1: Получение однозначного числа\n",
    "\n",
    "Пользователь вводит целое число, программа складывает все цифры числа, с полученным числом — то же самое, и так до тех пор, пока не получится однозначное число.\n",
    "\n",
    "<br>\n",
    "\n",
    "**Примеры:**\n",
    "* `545   -> 5`\n",
    "* `12345 -> 6`"
   ]
  },
  {
   "cell_type": "code",
   "id": "344e919f",
   "metadata": {
    "ExecuteTime": {
     "end_time": "2025-08-28T19:06:30.407604Z",
     "start_time": "2025-08-28T19:06:25.524338Z"
    }
   },
   "source": [
    "from debugpy.common.timestamp import current\n",
    "from tornado.gen import multi\n",
    "\n",
    "\n",
    "def sum_dig_one(n):\n",
    "    while n>=10:\n",
    "        n=sum(int(digit) for digit in str(n))\n",
    "    return (n)\n",
    "num=int(input(\"Введите целое число: \"))\n",
    "result=sum_dig_one(num)\n",
    "print(result)"
   ],
   "outputs": [
    {
     "name": "stdout",
     "output_type": "stream",
     "text": [
      "3\n"
     ]
    }
   ],
   "execution_count": 2
  },
  {
   "cell_type": "markdown",
   "id": "45527a4a",
   "metadata": {},
   "source": [
    "## Задание 2: Кинотеатр\n",
    "\n",
    "Дан список списков, каждый вложенный список состоит из 1 и 0, количество вложенных списков — количество рядов. Пользователь вводит, сколько билетов ему требуется. Программа должна найти ряд, где можно приобрести нужное количество билетов (места должны быть рядом). Если таких рядов несколько, то ближайший к экрану (ближайшим считается нулевой ряд). Если таких мест нет, то вывести False.\n",
    "\n",
    "<br>\n",
    "\n",
    "**Примеры:**\n",
    "* `[[0,1,1,0], [1,0,0,0], [0,1,0,0]], 2 -> 1`\n",
    "* `[[0,1,1,0], [1,0,1,0], [1,1,0,1]], 2 -> False`"
   ]
  },
  {
   "cell_type": "code",
   "id": "3a29082d",
   "metadata": {
    "ExecuteTime": {
     "end_time": "2025-08-28T20:06:27.476525Z",
     "start_time": "2025-08-28T20:06:27.452115Z"
    }
   },
   "source": [
    "def find_seats(hall, tickets): \n",
    "    for idx, row in enumerate(hall): \n",
    "        streak = 0 \n",
    "        for place in row: \n",
    "            if place == 0: \n",
    "                streak += 1 \n",
    "                if streak >= tickets: \n",
    "                    return idx \n",
    "            else: \n",
    "                streak = 0\n",
    "    return False \n",
    "\n",
    "hall1 = [[0,1,1,0], [1,0,0,0], [0,1,0,0]]\n",
    "tickets1 = 2\n",
    "print(find_seats(hall1, tickets1)) \n",
    "hall2 = [[0,1,1,0], [1,0,1,0], [1,1,0,1]]\n",
    "tickets2 = 2\n",
    "print(find_seats(hall2, tickets2)) "
   ],
   "outputs": [
    {
     "name": "stdout",
     "output_type": "stream",
     "text": [
      "1\n",
      "False\n"
     ]
    }
   ],
   "execution_count": 5
  },
  {
   "cell_type": "markdown",
   "id": "7b7f098c",
   "metadata": {},
   "source": [
    "## Задание 3: Алгоритм RLE\n",
    "\n",
    "Необходимо написать упрощенную версию алгоритма RLE. \n",
    "Алгоритм RLE объединяет подряд идущие символы в коэффициент и символ.\n",
    "\n",
    "<br>\n",
    "\n",
    "**Примеры:**\n",
    "* `asssdddsssddd -> 1a3s3d3s3d`\n",
    "* `aaabbbbccccc  -> 3a4b5c`\n",
    "* `abcba         -> 1a1b1c1b1a`"
   ]
  },
  {
   "cell_type": "code",
   "id": "e0d30ec2",
   "metadata": {
    "ExecuteTime": {
     "end_time": "2025-09-06T06:26:52.834046Z",
     "start_time": "2025-09-06T06:26:52.794876Z"
    }
   },
   "source": [
    " data = 'asssdddsssddd'\n",
    " \n",
    " current_ch=data[0]\n",
    " multi=1\n",
    " for ch in data[1:]:\n",
    "    if current_ch == ch:\n",
    "        multi +=1\n",
    "    else:\n",
    "        result += str(multi) + current_ch\n",
    "        current_ch = ch\n",
    "        multi = 1\n",
    "\n",
    "result += str(multi) + current_ch         \n",
    "print(result)"
   ],
   "outputs": [
    {
     "name": "stdout",
     "output_type": "stream",
     "text": [
      "1a3s3d3s3d1a3s3d3s3d\n"
     ]
    }
   ],
   "execution_count": 21
  },
  {
   "cell_type": "markdown",
   "id": "f24d5e58",
   "metadata": {},
   "source": [
    "## Задание 4: Шифр Цезаря\n",
    "\n",
    "Реализуйте программу для шифрования текста с помощью шифра Цезаря.  \n",
    "Шифр Цезаря — это метод шифрования, при котором каждая буква в тексте заменяется буквой, стоящей на фиксированное число позиций дальше в алфавите.\n",
    "\n",
    "### Требования\n",
    "1. Программа должна принимать на вход:\n",
    "   - Строку текста для шифрования\n",
    "   - Ключ шифра (число от 0 до 25)\n",
    "\n",
    "2. Правила шифрования:\n",
    "   - Шифруются только латинские буквы (a-z, A-Z)\n",
    "   - Сохраняется регистр букв (заглавные остаются заглавными)\n",
    "   - Пробелы, цифры и знаки препинания остаются без изменений\n",
    "   - Сдвиг циклический (после 'z' идет 'a', после 'Z' идет 'A')\n",
    "\n",
    "### Примеры\n",
    "\n",
    "* `\"Hello World\", 3      -> \"Khoor Zruog\"`\n",
    "* `\"Python is great!\", 5 -> \"Udymts nx lwjfy!\"`\n",
    "* `\"XYZ abc\", 3          -> \"ABC def\"`\n",
    "* `\"Test 123\", 1         -> \"Uftu 123\"`\n",
    "\n",
    "### Алгоритм\n",
    "* Для каждого символа в строке:\n",
    "   - Если это латинская буква, найти её позицию в алфавите\n",
    "   - Добавить к позиции значение ключа\n",
    "   - Если результат больше 25, использовать остаток от деления на 26\n",
    "   - Преобразовать обратно в букву, сохранив регистр\n",
    "   - Если это не буква, оставить символ без изменений\n"
   ]
  },
  {
   "cell_type": "code",
   "execution_count": null,
   "id": "6a075d20",
   "metadata": {},
   "outputs": [],
   "source": [
    "from string import ascii_uppercase, ascii_lowercase\n",
    "\n",
    "def encrypt(text, shift):\n",
    "    encrypted_text = []\n",
    "    for ch in text:\n",
    "        if ch.isupper():\n",
    "            index = (ascii_uppercase.index(ch) + shift) % 26\n",
    "            encrypted_text.append(ascii_uppercase[index])\n",
    "        elif ch.islower():\n",
    "            index = (ascii_lowercase.index(ch) + shift) % 26\n",
    "            encrypted_text.append(ascii_lowercase[index])\n",
    "        else:\n",
    "            encrypted_text.append(ch)\n",
    "    return ''.join(encrypted_text)\n",
    "\n",
    "word = input('Введите слово: ')\n",
    "shift = int(input('Введите числовой ключ шифрования: '))\n",
    "\n",
    "encrypted_word = encrypt(word, shift)\n",
    "print(f\"Зашифрованное сообщение: {encrypted_word}\")   "
   ]
  },
  {
   "cell_type": "markdown",
   "id": "c88bf52c",
   "metadata": {},
   "source": [
    "## Задание 5: Табель успеваемости\n",
    "\n",
    "Пользователь в бесконечном цикле (пока не будет введена пустая строка) вводит строки вида: 'название предмета' 'фамилия ученика' 'оценка'. После окончания ввода программа выводит в консоль название предмета, далее список учеников и все их оценки в виде таблицы.\n",
    "\n",
    "<br>\n",
    "\n",
    "**Примеры:**\n",
    "\n",
    "<br>\n",
    "\n",
    "*Ввод:*\n",
    "```python\n",
    "Математика Иванов  5\n",
    "Математика Иванов  4\n",
    "Литература Иванов  3\n",
    "Математика Петров  5\n",
    "Литература Сидоров 3\n",
    "Литература Петров  5\n",
    "Литература Иванов  4\n",
    "Математика Сидоров 3\n",
    "Математика Петров  5\n",
    "```\n",
    "\n",
    "<br>\n",
    "\n",
    "*Результат:*\n",
    "```python\n",
    "Математика # вводим название предмета\n",
    "\n",
    "# выводим список учеников и их оценки\n",
    "Иванов  5 4\n",
    "Петров  5 5\n",
    "Сидоров 3\n",
    "```\n",
    "\n",
    "```python\n",
    "Литература # вводим название предмета\n",
    "\n",
    "# выводим список учеников и их оценки\n",
    "Иванов  3 4\n",
    "Сидоров 3\n",
    "Петров  5\n",
    "```"
   ]
  },
  {
   "cell_type": "code",
   "id": "196f6ff4",
   "metadata": {
    "ExecuteTime": {
     "end_time": "2025-09-06T06:30:26.451291Z",
     "start_time": "2025-09-06T06:29:44.195490Z"
    }
   },
   "source": [
    "subjects_data = {}\n",
    "\n",
    "while True:\n",
    "    entry = input().strip()\n",
    "    if not entry:\n",
    "        break\n",
    "    \n",
    "    parts = entry.split()\n",
    "    subject = parts[0]\n",
    "    student = parts[1]\n",
    "    grade = int(parts[2])\n",
    "    \n",
    "    if subject not in subjects_data:\n",
    "        subjects_data[subject] = {}\n",
    "    \n",
    "    if student not in subjects_data[subject]:\n",
    "        subjects_data[subject][student] = []\n",
    "    \n",
    "    subjects_data[subject][student].append(grade)\n",
    "\n",
    "for subject in sorted(subjects_data.keys()):\n",
    "    print(subject)\n",
    "    for student in sorted(subjects_data[subject].keys()):\n",
    "        grades = ' '.join(map(str, subjects_data[subject][student]))\n",
    "        print(f\"{student}: {grades}\")\n",
    "    print()"
   ],
   "outputs": [
    {
     "name": "stdout",
     "output_type": "stream",
     "text": [
      "Литература\n",
      "Сидоров: 3\n",
      "\n",
      "Математика\n",
      "Иванов: 5\n",
      "Петров: 5\n",
      "\n"
     ]
    }
   ],
   "execution_count": 26
  }
 ],
 "metadata": {
  "kernelspec": {
   "display_name": ".venv (3.11.12)",
   "language": "python",
   "name": "python3"
  },
  "language_info": {
   "codemirror_mode": {
    "name": "ipython",
    "version": 3
   },
   "file_extension": ".py",
   "mimetype": "text/x-python",
   "name": "python",
   "nbconvert_exporter": "python",
   "pygments_lexer": "ipython3",
   "version": "3.11.12"
  }
 },
 "nbformat": 4,
 "nbformat_minor": 5
}
