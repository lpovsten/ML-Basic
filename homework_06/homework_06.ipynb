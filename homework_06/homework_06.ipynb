{
 "cells": [
  {
   "cell_type": "markdown",
   "metadata": {
    "id": "rL70m2sic0jV"
   },
   "source": [
    "# “Git push -f” или после нас хоть потоп"
   ]
  },
  {
   "cell_type": "markdown",
   "metadata": {
    "id": "JVd5jRlPc0jY"
   },
   "source": [
    "# 0. Где мы сейчас?\n",
    "<img src=\"https://upload.wikimedia.org/wikipedia/commons/thumb/3/38/Jupyter_logo.svg/1200px-Jupyter_logo.svg.png\" width=\"150\">\n",
    "\n",
    "[Jupyter Notebook](https://jupyter.org/) - интерактивная среда для запуска программного кода в браузере. Удобный инструмент для анализа данных, который используется многими специалистами по data science. Позволяет выполнять отдельные ячейки с кодом, а не всю программу сразу, что очень удобно при знакомстве с данными."
   ]
  },
  {
   "cell_type": "markdown",
   "metadata": {
    "id": "k8hj3Kdvc0jZ"
   },
   "source": [
    "# 1. Python\n",
    "> Python - это свободный интерпретируемый объектно-ориентированный расширяемый встраиваемый язык программирования очень высокого уровня\n",
    "\n",
    ">*(Г.Россум, Ф.Л.Дж.Дрейк, Д.С.Откидач \"Язык программирования Python\").*\n",
    "\n",
    "А если без цитат, то питон - это просто очень крутой язык, созданный в 1991 году [Великодушным пожизненным диктатором](https://ru.wikipedia.org/wiki/%D0%92%D0%B5%D0%BB%D0%B8%D0%BA%D0%BE%D0%B4%D1%83%D1%88%D0%BD%D1%8B%D0%B9_%D0%BF%D0%BE%D0%B6%D0%B8%D0%B7%D0%BD%D0%B5%D0%BD%D0%BD%D1%8B%D0%B9_%D0%B4%D0%B8%D0%BA%D1%82%D0%B0%D1%82%D0%BE%D1%80) Гвидо ван Россумом и названный в честь любимого им шоу [Monty Python's Flying Circus](https://en.wikipedia.org/wiki/Monty_Python%27s_Flying_Circus)\n",
    "\n",
    "<img src=\"https://advancelocal-adapter-image-uploads.s3.amazonaws.com/image.oregonlive.com/home/olive-media/width2048/img/tv/photo/2018/10/10/montycastjpg-7ef393e2355a42aa.jpg\" width=\"300\">"
   ]
  },
  {
   "cell_type": "markdown",
   "metadata": {
    "id": "llQ9RXHfc0ja"
   },
   "source": [
    "# 2. Anaconda\n",
    "\n",
    "[Сборка Anaconda](https://www.anaconda.com/products/individual) включает очень много полезных библиотек для анализа данных.\n",
    "\n",
    "Среди наиболее популярных библиотек:\n",
    " - <a href=\"http://numpy.org\">Numpy</a> - это один из основных пакетов для математических вычислений. Он содержит средства для работы с многомерными массивами и высокоуровневыми математическими функциями\n",
    " - <a href=\"https://www.scipy.org/\">SciPy</a> - научные вычисления. Методы оптимизации, интегрирования, модули обработки сигналов и изображений, статистика, линейная алгебра, сплайны, кластеризация и многое другое\n",
    " -  <a href=\"http://pandas.pydata.org/\">Pandas</a> - основная библиотека для обработки и анализа данных. Предназначена для данных разной природы - матричных, панельных данных, временных рядов. Претендует на звание самого мощного и гибкого средства для анализа данных с открытым исходным кодом\n",
    " - <a href=\"http://scikit-learn.org/stable/\">Scikit-learn</a> - реализация очень многих методов машинного обучения с отличной документацией.\n",
    " - <a href=\"http://http://matplotlib.org/\">matplotlib</a> - хорошая библиотека для визуализации данных\n",
    "\n",
    " С этими библиотеками вы будете знакомится дальше на курсе, а пока давайте попрактикуемся в решении базовых задач на  чистом Python."
   ]
  },
  {
   "cell_type": "markdown",
   "metadata": {
    "id": "rfAcLe-Tc0ja"
   },
   "source": [
    "# 3. Задачки"
   ]
  },
  {
   "cell_type": "markdown",
   "metadata": {
    "id": "y7gWqyZpc0jb"
   },
   "source": [
    "## Задача 1\n",
    "$N$ хоббитов делят $K$ кусков эльфийского хлеба поровну, не делящийся нацело остаток остается в корзинке у Сэма. Напишите функцию, которая принимает на вход параметры $N$ и $K$ и возвращает два числа: $x$ - cколько кусков эльфиского хлеба достанется каждому хоббиту, и $y$ - сколько кусков остаётся в корзинке."
   ]
  },
  {
   "cell_type": "code",
   "metadata": {
    "id": "m9mteFtwc0jb",
    "ExecuteTime": {
     "end_time": "2025-09-27T08:23:48.835815Z",
     "start_time": "2025-09-27T08:23:48.827836Z"
    }
   },
   "source": [
    "def share_bread(N, K):\n",
    "    x = K // N\n",
    "    y = K % N\n",
    "    return x, y\n",
    "\n",
    "# если в функции всё верно, то после выполнения этой строчки, не должно выскакивать ошибок\n",
    "assert share_bread(N=3, K=14) == (4, 2)\n",
    "\n",
    "result = share_bread(N=3, K=14)\n",
    "print(result)"
   ],
   "outputs": [
    {
     "name": "stdout",
     "output_type": "stream",
     "text": [
      "(4, 2)\n"
     ]
    }
   ],
   "execution_count": 2
  },
  {
   "cell_type": "markdown",
   "metadata": {
    "id": "i24Th8I7c0jc"
   },
   "source": [
    "## Задача 2\n",
    "\n",
    "В копях Мории хоббиты нашли стену, на которой высечены разные натуральные числа. Согласно древним сказаниям, это даты сражений. Хоббиты знают, что сражения происходили только по високосным годам. Помогите хоббитам определить, является ли год с данным числом датой великого сражения. Если это так, то верните строку \"YOU SHALL PASS\", иначе верните \"YOU SHALL NOT PASS\". Напомним, что в соответствии с хоббитским календарем, год является високосным, если его номер кратен 4, но не кратен 100, а также если он кратен 400."
   ]
  },
  {
   "cell_type": "code",
   "metadata": {
    "id": "3SnU33pPc0jc",
    "ExecuteTime": {
     "end_time": "2025-09-27T08:29:10.979474Z",
     "start_time": "2025-09-27T08:29:10.970099Z"
    }
   },
   "source": [
    "def leap_year(year):\n",
    "    if (year % 4 == 0 and year % 100 != 0) or (year % 400 == 0):\n",
    "        return \"YOU SHALL PASS\"\n",
    "    else:\n",
    "        return \"YOU SHALL NOT PASS\"\n",
    "\n",
    "result = leap_year(5)\n",
    "print(result)"
   ],
   "outputs": [
    {
     "name": "stdout",
     "output_type": "stream",
     "text": [
      "YOU SHALL NOT PASS\n"
     ]
    }
   ],
   "execution_count": 5
  },
  {
   "cell_type": "markdown",
   "metadata": {
    "id": "-oibBIG4c0jd"
   },
   "source": [
    "## Задача 3\n",
    "<img src=\"http://i0.kym-cdn.com/photos/images/original/001/187/255/5e9.gif\" width=300>\n",
    "\n",
    "\n",
    "Для могущественного магического ритуала Гендальфу необходимо быстро подсчитывать площадь своего амулета, который умеет менять размеры. Известно, что амулет имеет форму треугольника и Гендальф знает длину каждой из сторон. Напишите функцию, которая считает площадь амулета по трем сторонам.  \n",
    "\n",
    "**Подсказка:** используйте формулу Герона\n",
    "$$ S = \\sqrt{p(p-a)(p-b)(p-c)} $$\n",
    "$$ p = \\frac{a + b + c}{2}$$\n"
   ]
  },
  {
   "cell_type": "code",
   "metadata": {
    "id": "Uln7wcTVc0jd",
    "ExecuteTime": {
     "end_time": "2025-09-27T08:35:09.825586Z",
     "start_time": "2025-09-27T08:35:09.811623Z"
    }
   },
   "source": [
    "import math\n",
    "def amulet_area(a, b, c):\n",
    "    p = (a + b + c) / 2\n",
    "    area = math.sqrt(p * (p - a) * (p - b) * (p - c))\n",
    "    return area\n",
    "\n",
    "assert amulet_area(3, 4, 5) == 6\n",
    "\n",
    "area = amulet_area(3, 4, 5)\n",
    "print(area)"
   ],
   "outputs": [
    {
     "name": "stdout",
     "output_type": "stream",
     "text": [
      "6.0\n"
     ]
    }
   ],
   "execution_count": 7
  },
  {
   "cell_type": "markdown",
   "metadata": {
    "id": "Os5KM6bQc0jd"
   },
   "source": [
    "## Задача 4\n",
    "\n",
    "Хоббиты собираются пешком идти до Мордора и им нужно подсчитать расстояние, которое им предстоит пройти. Хоббиты смогли вспомнить сразу несколько метрик расстояния: евклидово, манхэттена и косинусное, так что ваша задача - написать функцию под каждую из них. Важное условие - используйте только базовые функции для решения.\n",
    "\n",
    "\n",
    "* Евклидово расстояние\n",
    "$$ d(a, b) = \\sqrt{\\sum_i (a_i - b_i)^2} $$\n",
    "* Расстояние Манхэттена\n",
    "$$ d(a, b) = \\sum_i |a_i - b_i| $$\n",
    "* Косинусное расстояние\n",
    "$$ d(a, b) = 1 - \\frac{a^\\top b}{||a||_2\\cdot||b||_2}$$"
   ]
  },
  {
   "cell_type": "code",
   "metadata": {
    "id": "_21LOuZRc0jd",
    "ExecuteTime": {
     "end_time": "2025-09-27T08:47:40.221587Z",
     "start_time": "2025-09-27T08:47:40.211311Z"
    }
   },
   "source": [
    "import math\n",
    "def cal_euclidean(a, b):\n",
    "    sum_squared_diff = ((a - b) ** 2).sum()\n",
    "    return math.sqrt(sum_squared_diff)\n",
    "\n",
    "def cal_manhattan(a, b):\n",
    "    abs_diff_sum = abs(a - b).sum()\n",
    "    return abs_diff_sum\n",
    "\n",
    "def dot_product(a, b):\n",
    "    return (a * b).sum()\n",
    "\n",
    "def vector_norm(v):\n",
    "    squared_sum = (v ** 2).sum()\n",
    "    return math.sqrt(squared_sum)\n",
    "\n",
    "def cal_cosine(a, b):\n",
    "    numerator = dot_product(a, b)\n",
    "    denominator = vector_norm(a) * vector_norm(b)\n",
    "    cosine_similarity = numerator / denominator\n",
    "    return 1 - cosine_similarity"
   ],
   "outputs": [],
   "execution_count": 11
  },
  {
   "cell_type": "code",
   "metadata": {
    "id": "fvyqAKchc0je",
    "ExecuteTime": {
     "end_time": "2025-09-27T08:47:42.241671Z",
     "start_time": "2025-09-27T08:47:42.232656Z"
    }
   },
   "source": [
    "import random\n",
    "import numpy as np\n",
    "random.seed(42)\n",
    "a = np.random.randint(-10, 10, size=10)\n",
    "b = np.random.randint(-10, 10, size=10)\n",
    "print(cal_euclidean(a, b))\n",
    "print(cal_manhattan(a, b))\n",
    "print(cal_cosine(a, b))"
   ],
   "outputs": [
    {
     "name": "stdout",
     "output_type": "stream",
     "text": [
      "28.319604517012593\n",
      "74\n",
      "1.1138929908592723\n"
     ]
    }
   ],
   "execution_count": 12
  },
  {
   "cell_type": "markdown",
   "metadata": {
    "id": "w1L3GDw3c0je"
   },
   "source": [
    "## Задача 5* (бонусное неоцениваемое задание)\n",
    "\n",
    "**Замечание:** Поскольку библиотеку numpy мы будем подробно разбирать дальше, то это задание является бонусным, его выполнение необязательно для сдачи ДЗ и не влияет на итоговый балл. Как вариант, можете вернуться к нему после прохождения numpy ;)\n",
    "\n"
   ]
  },
  {
   "cell_type": "markdown",
   "metadata": {
    "id": "aEDIBiRpc0je"
   },
   "source": [
    "Создайте случайный array (`np.random.rand()`) длинной 100. Преобразуйте его так, чтобы\n",
    "* Максимальный элемент(ы) был равен 1\n",
    "* Минимальный элемент(ы) был равен 0\n",
    "* Остальные элементы в интервале от 0 до 1 остаются прежними"
   ]
  },
  {
   "cell_type": "code",
   "metadata": {
    "id": "AFye6XzXc0je",
    "ExecuteTime": {
     "end_time": "2025-09-27T08:57:34.496656Z",
     "start_time": "2025-09-27T08:57:34.475382Z"
    }
   },
   "source": [
    "import numpy as np\n",
    "my_array = np.random.rand(100)\n",
    "\n",
    "min_val = np.min(my_array)\n",
    "max_val = np.max(my_array)\n",
    "\n",
    "normalized_array = (my_array - min_val) / (max_val - min_val)\n",
    "\n",
    "print(np.max(my_array), np.min(my_array))\n",
    "print(my_array)\n",
    "\n",
    "print(\"Минимальное значение:\", np.min(normalized_array))\n",
    "print(\"Максимальное значение:\", np.max(normalized_array))\n",
    "print(normalized_array[:10])"
   ],
   "outputs": [
    {
     "name": "stdout",
     "output_type": "stream",
     "text": [
      "0.9992983965182647 0.003004418796803243\n",
      "[0.1599219  0.208143   0.42807787 0.81907184 0.27949101 0.39403646\n",
      " 0.91036785 0.43330576 0.67999148 0.41620198 0.98162125 0.16802192\n",
      " 0.03825501 0.50825809 0.71575263 0.27014179 0.77962912 0.43656738\n",
      " 0.43756657 0.75112545 0.23734129 0.45924645 0.51527106 0.20912594\n",
      " 0.74796584 0.60104395 0.4562243  0.17688539 0.88152936 0.88054007\n",
      " 0.99818618 0.78472685 0.04875264 0.17859691 0.00300442 0.33545009\n",
      " 0.89447525 0.70670556 0.74912326 0.76507229 0.61179252 0.1084963\n",
      " 0.61057594 0.93237904 0.76476129 0.82957372 0.69823245 0.72160842\n",
      " 0.19790228 0.05941806 0.74066048 0.25114992 0.30072407 0.73954446\n",
      " 0.88783303 0.09753265 0.2916334  0.2799617  0.33319719 0.87103111\n",
      " 0.28018601 0.46447423 0.33601207 0.02860227 0.58652966 0.60763702\n",
      " 0.16083841 0.9992984  0.60424291 0.77894474 0.03234321 0.26539484\n",
      " 0.58385672 0.96859888 0.48072406 0.42853005 0.60544873 0.193964\n",
      " 0.60808148 0.91651075 0.40997752 0.19972999 0.24471924 0.89021786\n",
      " 0.15494585 0.12520419 0.43258595 0.15385635 0.21262702 0.23832786\n",
      " 0.1202873  0.26539687 0.69066105 0.27521032 0.37742538 0.54349254\n",
      " 0.18764481 0.01340731 0.19571432 0.5365851 ]\n",
      "Минимальное значение: 0.0\n",
      "Максимальное значение: 1.0\n",
      "[0.15750118 0.20590165 0.42665465 0.81910304 0.27751507 0.39248661\n",
      " 0.91073864 0.43190198 0.67950532 0.41473458]\n"
     ]
    }
   ],
   "execution_count": 14
  },
  {
   "cell_type": "markdown",
   "metadata": {
    "id": "D84Jpwmmc0je"
   },
   "source": [
    "Создайте array размером $5 \\times 6$ с целыми числами в интервале [0,50]. Напечатайте колонку, которая содержит максимальный элемент полученной матрицы"
   ]
  },
  {
   "cell_type": "code",
   "metadata": {
    "id": "SXaKW9bec0je",
    "ExecuteTime": {
     "end_time": "2025-09-27T09:06:49.295693Z",
     "start_time": "2025-09-27T09:06:49.283968Z"
    }
   },
   "source": [
    "my_array = np.random.randint(0, 50, size=(5, 6))\n",
    "\n",
    "index_max_element = np.argmax(my_array)\n",
    "row_idx, col_idx = divmod(index_max_element, my_array.shape[1])\n",
    "\n",
    "selected_column = my_array[:, col_idx]\n",
    "print('Shape: ',my_array.shape)\n",
    "print('Array')\n",
    "print(my_array)\n",
    "\n",
    "print('Column with max element', selected_column)"
   ],
   "outputs": [
    {
     "name": "stdout",
     "output_type": "stream",
     "text": [
      "Shape:  (5, 6)\n",
      "Array\n",
      "[[46 31  5 44 39 14]\n",
      " [48 32 28 21  3 43]\n",
      " [33 30  2 15 46 13]\n",
      " [22 31 10 46 29 45]\n",
      " [49 24 30 29 22 17]]\n",
      "Column with max element [46 48 33 22 49]\n"
     ]
    }
   ],
   "execution_count": 19
  },
  {
   "cell_type": "markdown",
   "metadata": {
    "id": "g3scUf0_c0je"
   },
   "source": [
    "Напишите функцию, которая принимает на вход матрицу (array) X и возвращает все её уникальные строки в виде новой матрицы."
   ]
  },
  {
   "cell_type": "code",
   "metadata": {
    "id": "75j1Kyzvc0je",
    "ExecuteTime": {
     "end_time": "2025-09-27T09:28:01.462132Z",
     "start_time": "2025-09-27T09:28:01.456607Z"
    }
   },
   "source": [
    "import numpy as np\n",
    "def get_unique_rows(X):\n",
    "    sorted_X = np.sort(X.view(dtype=np.dtype((np.void, X.itemsize * X.shape[1])))).view(X.dtype)\n",
    "    _, indices = np.unique(sorted_X, axis=0, return_index=True)\n",
    "    return X[np.sort(indices)]"
   ],
   "outputs": [],
   "execution_count": 31
  },
  {
   "cell_type": "code",
   "metadata": {
    "id": "HzY-9KwGc0je",
    "ExecuteTime": {
     "end_time": "2025-09-27T09:28:03.175033Z",
     "start_time": "2025-09-27T09:28:03.168502Z"
    }
   },
   "source": [
    "X = np.random.randint(4, 6, size=(10,3))\n",
    "print(X)"
   ],
   "outputs": [
    {
     "name": "stdout",
     "output_type": "stream",
     "text": [
      "[[4 4 4]\n",
      " [5 4 5]\n",
      " [4 5 4]\n",
      " [5 5 4]\n",
      " [5 4 5]\n",
      " [4 5 5]\n",
      " [5 5 5]\n",
      " [4 5 5]\n",
      " [4 4 5]\n",
      " [5 5 5]]\n"
     ]
    }
   ],
   "execution_count": 32
  },
  {
   "cell_type": "code",
   "metadata": {
    "id": "UiAM62AGc0jf",
    "ExecuteTime": {
     "end_time": "2025-09-27T09:28:26.659453Z",
     "start_time": "2025-09-27T09:28:26.652719Z"
    }
   },
   "source": [
    "unique_X = get_unique_rows(X)\n",
    "print(unique_X)"
   ],
   "outputs": [
    {
     "name": "stdout",
     "output_type": "stream",
     "text": [
      "[[4 4 4]\n",
      " [5 4 5]\n",
      " [4 5 4]\n",
      " [5 5 4]\n",
      " [4 5 5]\n",
      " [5 5 5]\n",
      " [4 4 5]]\n"
     ]
    }
   ],
   "execution_count": 34
  }
 ],
 "metadata": {
  "colab": {
   "provenance": []
  },
  "kernelspec": {
   "display_name": "Python 3",
   "language": "python",
   "name": "python3"
  },
  "language_info": {
   "codemirror_mode": {
    "name": "ipython",
    "version": 3
   },
   "file_extension": ".py",
   "mimetype": "text/x-python",
   "name": "python",
   "nbconvert_exporter": "python",
   "pygments_lexer": "ipython3",
   "version": "3.7.6"
  },
  "varInspector": {
   "cols": {
    "lenName": 16,
    "lenType": 16,
    "lenVar": 40
   },
   "kernels_config": {
    "python": {
     "delete_cmd_postfix": "",
     "delete_cmd_prefix": "del ",
     "library": "var_list.py",
     "varRefreshCmd": "print(var_dic_list())"
    },
    "r": {
     "delete_cmd_postfix": ") ",
     "delete_cmd_prefix": "rm(",
     "library": "var_list.r",
     "varRefreshCmd": "cat(var_dic_list()) "
    }
   },
   "types_to_exclude": [
    "module",
    "function",
    "builtin_function_or_method",
    "instance",
    "_Feature"
   ],
   "window_display": false
  }
 },
 "nbformat": 4,
 "nbformat_minor": 0
}
