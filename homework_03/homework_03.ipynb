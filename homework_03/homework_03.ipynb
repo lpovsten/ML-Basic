{
 "cells": [
  {
   "cell_type": "markdown",
   "id": "e2450ffa",
   "metadata": {},
   "source": [
    "# Домашнее задание: Функции"
   ]
  },
  {
   "cell_type": "markdown",
   "id": "8d062500",
   "metadata": {},
   "source": [
    "## Задание 1: Конвертер регистров\n",
    "\n",
    "Написать функцию, которая будет переводить snake_case в PascalCase и наоборот. \n",
    "\n",
    "Функция должна сама определять - какой формат ей передали. Можно добавить ключевой аргумент, который будет принудительно возвращать один из форматов.\n",
    "\n",
    "<br>\n",
    "\n",
    "**Примеры:**\n",
    "* `otus_course     -> OtusCourse`\n",
    "* `PythonIsTheBest -> python_is_the_best`\n",
    "\n"
   ]
  },
  {
   "metadata": {
    "ExecuteTime": {
     "end_time": "2025-09-21T12:32:47.798832Z",
     "start_time": "2025-09-21T12:32:47.764085Z"
    }
   },
   "cell_type": "code",
   "source": [
    "import re\n",
    "\n",
    "def convert_case(text):\n",
    "    if '_' in text:\n",
    "        return ''.join(word.capitalize() for word in text.split('_'))\n",
    "    else:\n",
    "        s1 = re.sub('(.)([A-Z][a-z]+)', r'\\1_\\2', text)\n",
    "        return re.sub('([a-z0-9])([A-Z])', r'\\1_\\2', s1).lower()\n",
    "\n",
    "print(convert_case('otus_course'))          \n",
    "print(convert_case('PythonIsTheBest'))      "
   ],
   "id": "f4f77a84e4ee295b",
   "outputs": [
    {
     "name": "stdout",
     "output_type": "stream",
     "text": [
      "OtusCourse\n",
      "python_is_the_best\n"
     ]
    }
   ],
   "execution_count": 6
  },
  {
   "cell_type": "markdown",
   "id": "b8253fb9",
   "metadata": {},
   "source": [
    "## Задание 2: Проверка валидности даты\n",
    "\n",
    "Написать функцию проверяющую валидность введенной даты.\n",
    "\n",
    "<br>\n",
    "\n",
    "**Примеры:**\n",
    "* `29.02.2000 -> True`\n",
    "* `29.02.2001 -> False`\n",
    "* `31.04.1962 -> False`\n",
    "\n"
   ]
  },
  {
   "cell_type": "code",
   "id": "e7f4e9c8",
   "metadata": {
    "ExecuteTime": {
     "end_time": "2025-09-21T12:33:54.360963Z",
     "start_time": "2025-09-21T12:33:54.336870Z"
    }
   },
   "source": [
    "from datetime import datetime\n",
    "\n",
    "def is_valid_date(date_string):\n",
    "    try:\n",
    "        day, month, year = map(int, date_string.split('.'))\n",
    "        datetime(year, month, day)\n",
    "        return True\n",
    "    except ValueError:\n",
    "        return False\n",
    "\n",
    "print(is_valid_date(\"29.02.2000\")) \n",
    "print(is_valid_date(\"29.02.2001\"))  \n",
    "print(is_valid_date(\"31.04.1962\"))  "
   ],
   "outputs": [
    {
     "name": "stdout",
     "output_type": "stream",
     "text": [
      "True\n",
      "False\n",
      "False\n"
     ]
    }
   ],
   "execution_count": 7
  },
  {
   "cell_type": "markdown",
   "id": "2d77053e",
   "metadata": {},
   "source": [
    "## Задание 3: Проверка на простое число\n",
    "\n",
    "Функция проверки на простое число. Простые числа – это такие числа, которые делятся на себя и на единицу.\n",
    "\n",
    "<br>\n",
    "\n",
    "**Примеры:**\n",
    "* `17 -> True`\n",
    "* `20 -> False`\n",
    "* `23 -> True`"
   ]
  },
  {
   "cell_type": "code",
   "id": "c20728f6",
   "metadata": {
    "ExecuteTime": {
     "end_time": "2025-09-21T12:35:39.790066Z",
     "start_time": "2025-09-21T12:35:39.705840Z"
    }
   },
   "source": [
    "import math\n",
    "\n",
    "def is_prime(n):\n",
    "    if n <= 1:\n",
    "        return False\n",
    "    if n <= 3:\n",
    "        return True\n",
    "    if n % 2 == 0 or n % 3 == 0:\n",
    "        return False\n",
    "    i = 5\n",
    "    while i * i <= n:\n",
    "        if n % i == 0 or n % (i + 2) == 0:\n",
    "            return False\n",
    "        i += 6\n",
    "    return True\n",
    "\n",
    "print(is_prime(17))  \n",
    "print(is_prime(20))  \n",
    "print(is_prime(23))  "
   ],
   "outputs": [
    {
     "name": "stdout",
     "output_type": "stream",
     "text": [
      "True\n",
      "False\n",
      "True\n"
     ]
    }
   ],
   "execution_count": 8
  },
  {
   "cell_type": "markdown",
   "id": "29703efe",
   "metadata": {},
   "source": [
    "## Задание 4: Учет пользователей\n",
    "\n",
    "Пользователь в бесконечном цикле вводит данные пользователей: имя, затем фамилию, возраст и ID. Ввод продолжается до тех пор, пока не будет введено пустое поле. \n",
    "\n",
    "Пользователи заносятся в словарь, где ключ это ID пользователя, а остальные данные записываются в виде кортежа. \n",
    "\n",
    "**Программа должна проверять:**\n",
    "* имя и фамилия состоят только из символов и начинаются с большой буквы - если не с большой, то заменяет букву на большую;\n",
    "* возраст должен быть числом от 18 до 60;\n",
    "* ID - целое число, дополненное до 8 знаков незначащими нулями, ID должен быть уникальным.\n",
    "\n",
    "**Дополнительно:** написать функцию, которая будет выводить полученный словарь в виде таблицы."
   ]
  },
  {
   "metadata": {
    "ExecuteTime": {
     "end_time": "2025-09-21T12:44:39.539800Z",
     "start_time": "2025-09-21T12:44:24.462414Z"
    }
   },
   "cell_type": "code",
   "source": [
    "users = {}\n",
    "\n",
    "while True:\n",
    "    first_name = input(\"Имя: \").strip().capitalize()\n",
    "    last_name = input(\"Фамилия: \").strip().capitalize()\n",
    "    age = input(\"Возраст: \")\n",
    "    user_id = input(\"ID: \")\n",
    "\n",
    "    if not first_name or not last_name or not age or not user_id:\n",
    "        break\n",
    "\n",
    "    try:\n",
    "        age = int(age)\n",
    "        if not (18 <= age <= 60):\n",
    "            print(\"Возраст должен быть от 18 до 60.\")\n",
    "            continue\n",
    "    except ValueError:\n",
    "        print(\"Возраст должен быть числом.\")\n",
    "        continue\n",
    "\n",
    "    try:\n",
    "        user_id = f\"{int(user_id):08}\"\n",
    "        if user_id in users:\n",
    "            print(\"Пользователь с таким ID уже зарегистрирован.\")\n",
    "            continue\n",
    "    except ValueError:\n",
    "        print(\"ID должен быть целым числом.\")\n",
    "        continue\n",
    "\n",
    "    users[user_id] = (first_name, last_name, age)\n",
    "\n",
    "print(\"\\nИтоговый словарь пользователей:\")\n",
    "for uid, data in users.items():\n",
    "    print(f\"ID: {uid}, Имя: {data[0]}, Фамилия: {data[1]}, Возраст: {data[2]}\")"
   ],
   "id": "54d1f971",
   "outputs": [
    {
     "name": "stdout",
     "output_type": "stream",
     "text": [
      "\n",
      "Итоговый словарь пользователей:\n",
      "ID: 35673567, Имя: Петр, Фамилия: Петров, Возраст: 33\n"
     ]
    }
   ],
   "execution_count": 15
  }
 ],
 "metadata": {
  "kernelspec": {
   "display_name": ".venv (3.11.12)",
   "language": "python",
   "name": "python3"
  },
  "language_info": {
   "name": "python",
   "version": "3.11.12"
  }
 },
 "nbformat": 4,
 "nbformat_minor": 5
}
